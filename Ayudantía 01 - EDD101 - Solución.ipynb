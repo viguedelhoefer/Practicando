{
 "cells": [
  {
   "cell_type": "markdown",
   "metadata": {},
   "source": [
    "# Ayudantía 01\n",
    "\n",
    "### Estructuras de Datos: _Built-ins_\n",
    "\n",
    "**Benjamín Cárcamo y Enzo Tamburini**"
   ]
  },
  {
   "cell_type": "markdown",
   "metadata": {},
   "source": [
    "En todas las ayudantías tendrán un link hacia un form de google para que puedan dar sus impresiones de la ayudantía y del ayudante :)\n",
    "\n",
    "**Form de Feedback:** https://docs.google.com/forms/d/1rublnCunwYWYe2QxARiND1hS9WJ9jKLE6WJilA7rRvE\n",
    "\n",
    "Esta ayudantía será un poco diferente a las que sigan dado que se verán _casos de uso_ para cada una de las estructuras de datos dentro de los contenidos de esta semana."
   ]
  },
  {
   "cell_type": "markdown",
   "metadata": {},
   "source": [
    "### Repaso Archivos\n",
    "\n",
    "¿Cómo abríamos un archivo? :O "
   ]
  },
  {
   "cell_type": "code",
   "execution_count": 1,
   "metadata": {},
   "outputs": [
    {
     "ename": "FileNotFoundError",
     "evalue": "[Errno 2] No such file or directory: 'sin_tildes.txt'",
     "output_type": "error",
     "traceback": [
      "\u001b[1;31m---------------------------------------------------------------------------\u001b[0m",
      "\u001b[1;31mFileNotFoundError\u001b[0m                         Traceback (most recent call last)",
      "\u001b[1;32m<ipython-input-1-742817815ffd>\u001b[0m in \u001b[0;36m<module>\u001b[1;34m()\u001b[0m\n\u001b[1;32m----> 1\u001b[1;33m \u001b[0marchivo\u001b[0m \u001b[1;33m=\u001b[0m \u001b[0mopen\u001b[0m\u001b[1;33m(\u001b[0m\u001b[1;34m'sin_tildes.txt'\u001b[0m\u001b[1;33m,\u001b[0m \u001b[1;34m'r'\u001b[0m\u001b[1;33m)\u001b[0m\u001b[1;33m\u001b[0m\u001b[0m\n\u001b[0m\u001b[0;32m      2\u001b[0m \u001b[1;32mfor\u001b[0m \u001b[0mlinea\u001b[0m \u001b[1;32min\u001b[0m \u001b[0marchivo\u001b[0m\u001b[1;33m:\u001b[0m\u001b[1;33m\u001b[0m\u001b[0m\n\u001b[0;32m      3\u001b[0m     \u001b[0mprint\u001b[0m\u001b[1;33m(\u001b[0m\u001b[0mlinea\u001b[0m\u001b[1;33m)\u001b[0m\u001b[1;33m\u001b[0m\u001b[0m\n\u001b[0;32m      4\u001b[0m \u001b[0marchivo\u001b[0m\u001b[1;33m.\u001b[0m\u001b[0mclose\u001b[0m\u001b[1;33m(\u001b[0m\u001b[1;33m)\u001b[0m\u001b[1;33m\u001b[0m\u001b[0m\n",
      "\u001b[1;31mFileNotFoundError\u001b[0m: [Errno 2] No such file or directory: 'sin_tildes.txt'"
     ]
    }
   ],
   "source": [
    "archivo = open('sin_tildes.txt', 'r')\n",
    "for linea in archivo:\n",
    "    print(linea)\n",
    "archivo.close()"
   ]
  },
  {
   "cell_type": "code",
   "execution_count": null,
   "metadata": {
    "collapsed": true
   },
   "outputs": [],
   "source": [
    "# Pero hay muchos saltos!        \n",
    "with open('sin_tildes.txt','r') as archivo:\n",
    "    for linea in archivo:\n",
    "        print(linea.strip())"
   ]
  },
  {
   "cell_type": "code",
   "execution_count": null,
   "metadata": {
    "collapsed": true
   },
   "outputs": [],
   "source": [
    "# Qué pasa con las tildes?\n",
    "with open('con_tildes.txt', 'r', encoding='ascii') as archivo:\n",
    "    for linea in archivo:\n",
    "        print(linea.strip())"
   ]
  },
  {
   "cell_type": "code",
   "execution_count": null,
   "metadata": {
    "collapsed": true
   },
   "outputs": [],
   "source": [
    "# Hay que definir un encoding! \n",
    "with open(file = 'con_tildes.txt', mode = 'r', encoding='latin-1') as archivo:\n",
    "    for linea in archivo:\n",
    "        print(linea.strip())"
   ]
  },
  {
   "cell_type": "markdown",
   "metadata": {},
   "source": [
    "---\n",
    "\n",
    "Algunos *imports* útiles para la ayudantía."
   ]
  },
  {
   "cell_type": "code",
   "execution_count": 2,
   "metadata": {},
   "outputs": [],
   "source": [
    "from collections import defaultdict, deque, namedtuple\n",
    "from sys import getsizeof as gso\n",
    "from time import time as t\n",
    "from random import shuffle"
   ]
  },
  {
   "cell_type": "markdown",
   "metadata": {},
   "source": [
    "### Estructura n°1 \n",
    "\n",
    "La empresa aerolínea PAW (_Progra Avanzada Wings_) tiene un problema de memoria. Tiene muchos destinos y cada uno de estos se modeló como un diccionario. Cada destino tiene nombre, pais, vuelo y precio. Debido a este problema te piden que lo ayudes reduciendo la memoria ocupada, haciendo que el código sea más ordenado y no quieren dejar que nadie modifique los datos."
   ]
  },
  {
   "cell_type": "code",
   "execution_count": 3,
   "metadata": {},
   "outputs": [
    {
     "ename": "FileNotFoundError",
     "evalue": "[Errno 2] No such file or directory: 'places.txt'",
     "output_type": "error",
     "traceback": [
      "\u001b[1;31m---------------------------------------------------------------------------\u001b[0m",
      "\u001b[1;31mFileNotFoundError\u001b[0m                         Traceback (most recent call last)",
      "\u001b[1;32m<ipython-input-3-18da606ca36f>\u001b[0m in \u001b[0;36m<module>\u001b[1;34m()\u001b[0m\n\u001b[0;32m      1\u001b[0m \u001b[0mtravesia\u001b[0m \u001b[1;33m=\u001b[0m \u001b[0mnamedtuple\u001b[0m\u001b[1;33m(\u001b[0m\u001b[1;34m'Vuelo'\u001b[0m\u001b[1;33m,\u001b[0m \u001b[1;34m'lugar pais precio'\u001b[0m\u001b[1;33m)\u001b[0m\u001b[1;33m\u001b[0m\u001b[0m\n\u001b[0;32m      2\u001b[0m \u001b[1;33m\u001b[0m\u001b[0m\n\u001b[1;32m----> 3\u001b[1;33m \u001b[1;32mwith\u001b[0m \u001b[0mopen\u001b[0m\u001b[1;33m(\u001b[0m\u001b[1;34m'places.txt'\u001b[0m\u001b[1;33m,\u001b[0m \u001b[1;34m'r'\u001b[0m\u001b[1;33m)\u001b[0m \u001b[1;32mas\u001b[0m \u001b[0mfile\u001b[0m\u001b[1;33m:\u001b[0m\u001b[1;33m\u001b[0m\u001b[0m\n\u001b[0m\u001b[0;32m      4\u001b[0m     \u001b[0mantiguo\u001b[0m \u001b[1;33m=\u001b[0m \u001b[0mdict\u001b[0m\u001b[1;33m(\u001b[0m\u001b[1;33m)\u001b[0m\u001b[1;33m\u001b[0m\u001b[0m\n\u001b[0;32m      5\u001b[0m     \u001b[0mnuevo\u001b[0m \u001b[1;33m=\u001b[0m \u001b[0mdict\u001b[0m\u001b[1;33m(\u001b[0m\u001b[1;33m)\u001b[0m\u001b[1;33m\u001b[0m\u001b[0m\n",
      "\u001b[1;31mFileNotFoundError\u001b[0m: [Errno 2] No such file or directory: 'places.txt'"
     ]
    }
   ],
   "source": [
    "travesia = namedtuple('Vuelo', 'lugar pais precio')\n",
    "\n",
    "with open('places.txt', 'r') as file:\n",
    "    antiguo = dict()\n",
    "    nuevo = dict()\n",
    "    \n",
    "    \n",
    "    for line in file:\n",
    "        line = line.strip()\n",
    "        lugar, pais, vuelo, precio = line.split(',')\n",
    "        forma_vieja = {'pais': pais, 'lugar': lugar, 'precio': precio}\n",
    "        forma_nueva = travesia(lugar, pais, precio)\n",
    "        print(gso(forma_vieja), gso(forma_nueva))\n",
    "        \n",
    "print(gso(antiguo), gso(nuevo))"
   ]
  },
  {
   "cell_type": "markdown",
   "metadata": {},
   "source": [
    "## Estructura n°2\n",
    "\n",
    "HBO te ha contratado para que manejes su base de datos de huéspedes. Cada huesped posee un nombre y un apellido, sin embargo, para un mejor manejo del parque, a cada uno se le asignó un número de serie único. Se deben guardar estas entidades en una estructura de datos adecuada y crear una función que reciba un número de serie y esta estructura y que retorne al huesped con el rut entregado en un período corto de tiempo. \n",
    "\n",
    "La información de los huéspedes se encuentra en el archivo `huespedes.txt` en el formato número_de_serie;nombre;apellido."
   ]
  },
  {
   "cell_type": "code",
   "execution_count": null,
   "metadata": {
    "collapsed": true
   },
   "outputs": [],
   "source": [
    "estructura_adecuada = dict()\n",
    "Huesped = namedtuple('Huesped', 'nombre apellido')\n",
    "\n",
    "with open('huespedes.txt', 'r', encoding='utf8') as archivo:\n",
    "    for linea in archivo:\n",
    "        n_serie, nombre, apellido = linea.strip().split(';')\n",
    "        estructura_adecuada[n_serie] = Huesped(nombre, apellido)\n",
    "\n",
    "def funcion_requerida(n_serie, estructura_adecuada):\n",
    "    return estructura_adecuada[n_serie]    "
   ]
  },
  {
   "cell_type": "markdown",
   "metadata": {},
   "source": [
    "## Estructura nº3\n",
    "\n",
    "Se tiene el archivo `direcciones.txt` con varias direcciones, pertenecientes a locales de varias cadenas de restoranes de comida rápida. Por cada cadena de comida rápida se tienen varias direcciones de locales de comida en Santiago. Debes guardar las direcciones de manera que, dado un local, podamos obtener el listado de direcciones de manera rápida. \n",
    "\n",
    "El formato del archivo `direcciones.txt` es `local;direccion`."
   ]
  },
  {
   "cell_type": "code",
   "execution_count": null,
   "metadata": {
    "collapsed": true
   },
   "outputs": [],
   "source": [
    "direcciones_locales = defaultdict(list)\n",
    "\n",
    "with open('direcciones.txt', 'r') as archivo:\n",
    "    for linea in archivo:\n",
    "        local, direccion = linea.strip().split(';')\n",
    "        direcciones_locales[local].append(direccion)\n",
    "\n",
    "print(direcciones_locales)"
   ]
  },
  {
   "cell_type": "code",
   "execution_count": null,
   "metadata": {
    "collapsed": true
   },
   "outputs": [],
   "source": [
    "print(direcciones_locales[\"Burger King\"])\n",
    "print(direcciones_locales[\"Wendy's\"])"
   ]
  },
  {
   "cell_type": "markdown",
   "metadata": {},
   "source": [
    "## Estructura nº4\n",
    "\n",
    "Hubo una filtración en el DCC (Departamento de Comida y Carrete) en que salieron a luz los tragos favoritos de los alumnos inscritos en sus cursos. Estos tragos se encuentran en un archivo llamado `tragos_favoritos.txt` y vienen en el formato github_alumno;trago_favorito. Pueden suponer que los *GitHubs* son únicos por cada alumno. Se te encomendó la tarea de guardar los tragos favoritos de cada alumno en una estructura de datos adecuada para que luego se puedan realizar consultas como:\n",
    "\n",
    "- Dados dos alumnos, cuáles son los tragos favoritos que comparten?\n",
    "- Dados dos alumnos, cuáles son los tragos favoritos del primero que no le gustan al segundo?\n",
    "\n",
    "De esta manera el DCC puede armar los proyectos de los ramos de manera \"inteligente\"."
   ]
  },
  {
   "cell_type": "code",
   "execution_count": null,
   "metadata": {
    "collapsed": true
   },
   "outputs": [],
   "source": [
    "tragos_alumnos = defaultdict(set)\n",
    "\n",
    "with open(\"tragos_favoritos.txt\") as archivo:\n",
    "    for linea in archivo:\n",
    "        github_alumno, trago_favorito = linea.strip().split(\";\")\n",
    "        tragos_alumnos[github_alumno].add(trago_favorito)\n",
    "        \n",
    "        \n",
    "tragos_alumno1 = tragos_alumnos['fringlesinthestreet']\n",
    "tragos_alumno2 = tragos_alumnos['entamburini']\n",
    "\n",
    "# Unión\n",
    "print(\"Unión: {}\".format(tragos_alumno1 | tragos_alumno2))\n",
    "\n",
    "# Intersección\n",
    "print(\"Intersección: {}\".format(tragos_alumno1 & tragos_alumno2))\n",
    "\n",
    "# Diferencia\n",
    "print(\"Diferencia: {}\".format(tragos_alumno1 - tragos_alumno2))"
   ]
  },
  {
   "cell_type": "markdown",
   "metadata": {},
   "source": [
    "## Estructura nº5\n",
    "\n",
    "\n",
    "A los profesores de Programación Avanzada se les ocurrió la brillante idea de aprobar/reprobar a los alumnos según el orden de llegada a la sala. Según ellos, los `X` primeros alumnos que llegan a la sala van a ser aprobados, mientras que los `Y` últimos, serán reprobados. Sin embargo, todavía no deciden la cantidad de `X` e `Y` por lo que te piden que almacenes a los alumnos en una estructura adecuada para la tarea.\n",
    "\n",
    "Los alumnos se encuentran en el archivo `alumnos.txt` y vienen en el formato nombre;apellido."
   ]
  },
  {
   "cell_type": "code",
   "execution_count": null,
   "metadata": {
    "collapsed": true
   },
   "outputs": [],
   "source": [
    "Alumno = namedtuple(\"Alumno\", \"nombre apellido\")\n",
    "\n",
    "alumnos = deque()\n",
    "\n",
    "with open(\"alumnos.txt\") as archivo:\n",
    "    for linea in archivo:\n",
    "        nombre, apellido = linea.strip().split(\";\")\n",
    "        alumnos.append(Alumno(nombre, apellido))\n"
   ]
  },
  {
   "cell_type": "code",
   "execution_count": null,
   "metadata": {
    "collapsed": true
   },
   "outputs": [],
   "source": [
    "# Revolvemos :O\n",
    "shuffle(alumnos)"
   ]
  },
  {
   "cell_type": "code",
   "execution_count": null,
   "metadata": {
    "collapsed": true
   },
   "outputs": [],
   "source": [
    "print(alumnos.popleft())"
   ]
  },
  {
   "cell_type": "markdown",
   "metadata": {},
   "source": [
    "---\n",
    "\n",
    "## Repaso EDD101"
   ]
  },
  {
   "cell_type": "markdown",
   "metadata": {
    "collapsed": true
   },
   "source": [
    "## Diccionarios\n",
    "\n",
    "Un uso común de diccionarios se da cuando en el problema a modelar se quiere almacenar en la memoria una gran cantidad de elementos, cada uno con un identificador unico. \n",
    "\n",
    "Por ejemplo, si el problema a tratar habla de países y éstos fueron modelados por el programador como clases, una forma óptima de almacenar sus instancias es a través de un diccionario.\n",
    "\n",
    "**¿Cuál es el problema con las listas? ¿Cuál es el problema con cualquier otra estructura?**"
   ]
  },
  {
   "cell_type": "code",
   "execution_count": null,
   "metadata": {
    "collapsed": true
   },
   "outputs": [],
   "source": [
    "Equipo = namedtuple('Equipo', 'nombre')\n",
    "equipos = {\"UC\": Equipo(\"Universidad Católica\"),\n",
    "           \"CC\": Equipo(\"Colo Colo\"),\n",
    "           \"UCH\": Equipo(\"Universidad de Chile\")}\n",
    "\n",
    "print(equipos[\"UC\"])\n",
    "print(equipos[\"CC\"])\n",
    "print(equipos[\"UCH\"])"
   ]
  },
  {
   "cell_type": "markdown",
   "metadata": {},
   "source": [
    "### Algunos comandos básicos"
   ]
  },
  {
   "cell_type": "code",
   "execution_count": null,
   "metadata": {
    "collapsed": true
   },
   "outputs": [],
   "source": [
    "# Dos formas de agregar elementos a un diccionario\n",
    "equipos.update({\"UE\": Equipo(\"Union Española\")})\n",
    "equipos[\"SW\"] = Equipo(\"Santiago Wanderers\")\n",
    "\n",
    "print(equipos)\n",
    "\n",
    "# Para eliminar elementos\n",
    "del equipos[\"UCH\"]\n",
    "\n",
    "print(equipos)\n",
    "\n",
    "# Recorrer keys y values\n",
    "print(\"_\"*50)\n",
    "print(\"Values\")\n",
    "for equipo in equipos.values():\n",
    "    print(equipo)\n",
    "print(\"_\"*50)\n",
    "\n",
    "print(\"Keys\")\n",
    "for equipo in equipos.keys():\n",
    "    print(equipo)\n",
    "print(\"_\"*50)\n",
    "\n",
    "print(\"Tuplas\")\n",
    "for tupla in equipos.items():\n",
    "    print(tupla)\n",
    "print(\"_\"*50)"
   ]
  },
  {
   "cell_type": "markdown",
   "metadata": {},
   "source": [
    "## DefaultDicts"
   ]
  },
  {
   "cell_type": "code",
   "execution_count": null,
   "metadata": {
    "collapsed": true
   },
   "outputs": [],
   "source": [
    "# Se deben importar de la libreria collections\n",
    "from collections import defaultdict\n",
    "\n",
    "# Que pasa si intentamos esto\n",
    "\n",
    "dicc = {\"UC\" : \"Universidad Catolica\", \"CC\": \"Colo Colo\"}\n",
    "dicc[\"UCH\"]\n",
    "\n",
    "# Utilidad del default dict\n",
    "default = defaultdict(int)\n",
    "default.update({\"UC\" : \"Universidad Catolica\", \"CC\": \"Colo Colo\"})\n",
    "print(default[\"UCH\"])\n",
    "\n",
    "# Funciona igual que un diccionario!\n",
    "print(default[\"UC\"])"
   ]
  },
  {
   "cell_type": "markdown",
   "metadata": {},
   "source": [
    "## Tuplas\n",
    "\n",
    "Las tuplas son estructuras **inmutables**."
   ]
  },
  {
   "cell_type": "code",
   "execution_count": null,
   "metadata": {
    "collapsed": true
   },
   "outputs": [],
   "source": [
    "# Dos formas de crearlas\n",
    "\n",
    "tupla1 = tuple([\"Hola\", int, 4])\n",
    "print(tupla1)\n",
    "tupla2 = (\"Hola\", int, 4)\n",
    "print(tupla2)\n",
    "\n",
    "print(tupla1 == tupla2)"
   ]
  },
  {
   "cell_type": "markdown",
   "metadata": {},
   "source": [
    "## Named tuple\n",
    "\n",
    "Las named tuples son como una clase sin métodos, es decir, solo tiene atributos y estos son fijos."
   ]
  },
  {
   "cell_type": "code",
   "execution_count": null,
   "metadata": {
    "collapsed": true
   },
   "outputs": [],
   "source": [
    "from collections import namedtuple\n",
    "\n",
    "# Sintaxis = namedtuple(\"nombre de la 'clase'\", [atributos])\n",
    "# Sintaxisv2 = namedtuple(\"nombre de la 'clase'\", \"attr1 attr2 attr3...\")\n",
    "juguete = namedtuple(\"tipo_juguete\", [\"nombre\", \"anho_de_fabricacion\"])\n",
    "\n",
    "j1 = juguete(\"Max Steel\", 2000)\n",
    "j2 = juguete(\"Barbie\", 1959)\n",
    "\n",
    "print(j1.nombre)\n",
    "print(j1.anho_de_fabricacion)\n",
    "\n",
    "print(j2.nombre)\n",
    "print(j2.anho_de_fabricacion)\n",
    "\n",
    "print(type(j1))"
   ]
  },
  {
   "cell_type": "markdown",
   "metadata": {},
   "source": [
    "## Sets\n",
    "\n",
    "Sirven para tener un conjunto de elementos ordenados y sin repetir. Se pueden intersectar y unir"
   ]
  },
  {
   "cell_type": "code",
   "execution_count": null,
   "metadata": {
    "collapsed": true
   },
   "outputs": [],
   "source": [
    "set1 = {1,2,3,4}\n",
    "set2 = {3,4,5,6}\n",
    "set3 = set([2,4,7,0,5])\n",
    "\n",
    "\n",
    "union = set3.union(set2)\n",
    "interseccion = set1.intersection(set2)\n",
    "print(union)\n",
    "print(interseccion)"
   ]
  }
 ],
 "metadata": {
  "kernelspec": {
   "display_name": "Python 3",
   "language": "python",
   "name": "python3"
  },
  "language_info": {
   "codemirror_mode": {
    "name": "ipython",
    "version": 3
   },
   "file_extension": ".py",
   "mimetype": "text/x-python",
   "name": "python",
   "nbconvert_exporter": "python",
   "pygments_lexer": "ipython3",
   "version": "3.6.5"
  }
 },
 "nbformat": 4,
 "nbformat_minor": 2
}
